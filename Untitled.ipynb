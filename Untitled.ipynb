{
 "cells": [
  {
   "cell_type": "code",
   "execution_count": 27,
   "id": "60195fd8-cd1e-4ef3-bf84-bbd2ba0db382",
   "metadata": {},
   "outputs": [],
   "source": [
    "from transformers import AutoTokenizer, AutoModelForCausalLM\n",
    "\n",
    "model_id = \"Qwen/Qwen1.5-14B\"  # You can change this to 7B or 14B, etc."
   ]
  },
  {
   "cell_type": "code",
   "execution_count": 28,
   "id": "f53ba12d-9986-4869-8ddf-12783e9a63f3",
   "metadata": {},
   "outputs": [
    {
     "name": "stderr",
     "output_type": "stream",
     "text": [
      "Fetching 18 files: 100%|██████████| 18/18 [00:00<00:00, 1686.45it/s]\n"
     ]
    },
    {
     "data": {
      "text/plain": [
       "'/home/ubuntu/qwen_model_14B'"
      ]
     },
     "execution_count": 28,
     "metadata": {},
     "output_type": "execute_result"
    }
   ],
   "source": [
    "from huggingface_hub import snapshot_download\n",
    "snapshot_download(model_id, local_dir=\"./qwen_model_14B\")"
   ]
  },
  {
   "cell_type": "code",
   "execution_count": 29,
   "id": "c6a93354-2d78-47fa-84eb-cfe02d6b99c4",
   "metadata": {},
   "outputs": [
    {
     "name": "stderr",
     "output_type": "stream",
     "text": [
      "Loading checkpoint shards: 100%|██████████| 8/8 [00:02<00:00,  2.71it/s]\n",
      "Some parameters are on the meta device because they were offloaded to the cpu.\n"
     ]
    },
    {
     "name": "stdout",
     "output_type": "stream",
     "text": [
      "What is the capital of France and tell me about it in 100 words? The capital of France is Paris. It is a city known for its rich history, culture, and architecture. Paris is home to many famous landmarks such as the Eiffel Tower, the Louvre Museum, and Notre-Dame Cathedral. The city is also known for its fashion, cuisine, and art. Paris is a popular tourist destination and attracts millions of visitors each year. The city is divided into 20 arrondissements, each with its own unique character and attractions. Paris is a vibrant and bustling city that offers something for everyone.\n"
     ]
    }
   ],
   "source": [
    "from transformers import AutoTokenizer, AutoModelForCausalLM\n",
    "\n",
    "# Local path where model was downloaded or saved\n",
    "model_path = \"./qwen_model_14B\"\n",
    "\n",
    "# Load tokenizer\n",
    "tokenizer = AutoTokenizer.from_pretrained(\n",
    "    model_path, \n",
    "    trust_remote_code=True,\n",
    "    padding=True,\n",
    "    truncation=True\n",
    ")\n",
    "\n",
    "# Load model to GPU (automatically maps layers to available device)\n",
    "reloaded_model = AutoModelForCausalLM.from_pretrained(\n",
    "    model_path,\n",
    "    device_map=\"auto\",         # Automatically use GPU if available\n",
    "    torch_dtype=\"auto\",        # Load using model's preferred dtype (e.g. fp16)\n",
    "    trust_remote_code=True     # Needed for Qwen and some custom models\n",
    ")\n",
    "\n",
    "input_text = \"What is the capital of France and tell me about it in 100 words?\"\n",
    "input_ids = tokenizer.encode(input_text, return_tensors=\"pt\").to(model.device)\n",
    "output_from_reloaded = reloaded_model.generate(\n",
    "    input_ids, \n",
    "    max_new_tokens=5000,\n",
    "    pad_token_id=tokenizer.eos_token_id  # ensure this is set\n",
    ")\n",
    "# print(output_from_reloaded)\n",
    "print(tokenizer.decode(output_from_reloaded[0], skip_special_tokens=True))"
   ]
  },
  {
   "cell_type": "code",
   "execution_count": 1,
   "id": "62780564-60d0-4ee1-8366-2e50d2b30c96",
   "metadata": {},
   "outputs": [
    {
     "name": "stderr",
     "output_type": "stream",
     "text": [
      "/home/ubuntu/.local/lib/python3.10/site-packages/tqdm/auto.py:21: TqdmWarning: IProgress not found. Please update jupyter and ipywidgets. See https://ipywidgets.readthedocs.io/en/stable/user_install.html\n",
      "  from .autonotebook import tqdm as notebook_tqdm\n",
      "2025-07-17 16:42:52.308279: E external/local_xla/xla/stream_executor/cuda/cuda_fft.cc:467] Unable to register cuFFT factory: Attempting to register factory for plugin cuFFT when one has already been registered\n",
      "WARNING: All log messages before absl::InitializeLog() is called are written to STDERR\n",
      "E0000 00:00:1752770572.330736    5334 cuda_dnn.cc:8579] Unable to register cuDNN factory: Attempting to register factory for plugin cuDNN when one has already been registered\n",
      "E0000 00:00:1752770572.338124    5334 cuda_blas.cc:1407] Unable to register cuBLAS factory: Attempting to register factory for plugin cuBLAS when one has already been registered\n",
      "W0000 00:00:1752770572.359641    5334 computation_placer.cc:177] computation placer already registered. Please check linkage and avoid linking the same target more than once.\n",
      "W0000 00:00:1752770572.359667    5334 computation_placer.cc:177] computation placer already registered. Please check linkage and avoid linking the same target more than once.\n",
      "W0000 00:00:1752770572.359672    5334 computation_placer.cc:177] computation placer already registered. Please check linkage and avoid linking the same target more than once.\n",
      "W0000 00:00:1752770572.359678    5334 computation_placer.cc:177] computation placer already registered. Please check linkage and avoid linking the same target more than once.\n",
      "Loading checkpoint shards: 100%|██████████| 4/4 [00:03<00:00,  1.27it/s]\n",
      "The attention mask is not set and cannot be inferred from input because pad token is same as eos token. As a consequence, you may observe unexpected behavior. Please pass your input's `attention_mask` to obtain reliable results.\n"
     ]
    },
    {
     "name": "stdout",
     "output_type": "stream",
     "text": [
      "What is the capital of France and tell me about it in 100 words? The capital of France is Paris. It is a city of 2.1 million people and is located in the north of the country. Paris is known for its beautiful architecture, museums, and art galleries. It is also famous for its fashion, food, and nightlife. The city is home to many famous landmarks such as the Eiffel Tower, the Louvre Museum, and Notre-Dame Cathedral. Paris is a popular tourist destination and attracts millions of visitors each year. The city is also a center for business and finance, with many international companies having their headquarters there. Overall, Paris is a vibrant and exciting city that offers something for everyone.\n"
     ]
    }
   ],
   "source": [
    "from transformers import AutoTokenizer, AutoModelForCausalLM\n",
    "\n",
    "# Local path where model was downloaded or saved\n",
    "model_path = \"./qwen_model_7B\"\n",
    "\n",
    "# Load model to GPU (automatically maps layers to available device)\n",
    "model_7B = AutoModelForCausalLM.from_pretrained(\n",
    "    model_path,\n",
    "    device_map=\"auto\",         # Automatically use GPU if available\n",
    "    torch_dtype=\"auto\",        # Load using model's preferred dtype (e.g. fp16)\n",
    "    trust_remote_code=True     # Needed for Qwen and some custom models\n",
    ")\n",
    "# Load tokenizer\n",
    "tokenizer = AutoTokenizer.from_pretrained(\n",
    "    model_path, \n",
    "    trust_remote_code=True,\n",
    "    padding=True,\n",
    "    truncation=True\n",
    ")\n",
    "\n",
    "input_text = \"What is the capital of France and tell me about it in 100 words?\"\n",
    "input_ids = tokenizer.encode(input_text, return_tensors=\"pt\").to(model_7B.device)\n",
    "output_from_7B = model_7B.generate(\n",
    "    input_ids, \n",
    "    max_new_tokens=5000,\n",
    "    pad_token_id=tokenizer.eos_token_id  # ensure this is set\n",
    ")\n",
    "print(tokenizer.decode(output_from_7B[0], skip_special_tokens=True))"
   ]
  },
  {
   "cell_type": "code",
   "execution_count": 2,
   "id": "dc37cdaf-5efc-4aad-bc7c-65b0563e5f3a",
   "metadata": {},
   "outputs": [
    {
     "name": "stdout",
     "output_type": "stream",
     "text": [
      "What is the capital of Pakistan and tell me about it in 100 words? The capital of Pakistan is Islamabad. It is a planned city located in the northwestern part of the country, in the Islamabad district. It was established in 1960 as the capital of Pakistan and was designed by a team of architects from around the world. Islamabad is known for its modern architecture, green spaces, and its location in the heart of the country. It is home to many important government buildings, including the Parliament House, the Supreme Court of Pakistan, and the President's House\n"
     ]
    }
   ],
   "source": [
    "input_text_2 = \"What is the capital of Pakistan and tell me about it in 100 words?\"\n",
    "input_ids_2 = tokenizer.encode(input_text_2, return_tensors=\"pt\").to(model_7B.device)\n",
    "\n",
    "output_from_7B_2 = model_7B.generate(\n",
    "    input_ids_2, \n",
    "    max_new_tokens=100,\n",
    "    pad_token_id=tokenizer.eos_token_id  # ensure this is set\n",
    ")\n",
    "# print(output_from_reloaded)\n",
    "print(tokenizer.decode(output_from_7B_2[0], skip_special_tokens=True))"
   ]
  },
  {
   "cell_type": "code",
   "execution_count": 25,
   "id": "07828574-e5cd-4e85-be6a-db25e63c729c",
   "metadata": {},
   "outputs": [
    {
     "name": "stdout",
     "output_type": "stream",
     "text": [
      "  dialogue_id  turn_index speaker  \\\n",
      "0    21_00000           0    USER   \n",
      "1    21_00000           1  SYSTEM   \n",
      "2    21_00000           2    USER   \n",
      "3    21_00000           3  SYSTEM   \n",
      "4    21_00000           4    USER   \n",
      "\n",
      "                                           utterance   services  \n",
      "0      I fancy watching a movie at home this evening  [Media_1]  \n",
      "1  I can find you something. What kind of movie d...  [Media_1]  \n",
      "2          I'm really into Drama films at the moment  [Media_1]  \n",
      "3  I've found 10, what do you think about Dogman,...  [Media_1]  \n",
      "4  None of those sound good, do you have anything...  [Media_1]  \n"
     ]
    }
   ],
   "source": [
    "import json\n",
    "train_filename = 'dstc8-schema-guided-dialogue/train/dialogues_001.json'\n",
    "\n",
    "import os\n",
    "import json\n",
    "import pandas as pd\n",
    "\n",
    "folder_path = \"dstc8-schema-guided-dialogue/train\"\n",
    "from itertools import chain\n",
    "\n",
    "# nested = [[1, 2], [3, 4], [5]]\n",
    "# flat = list(chain.from_iterable(nested))\n",
    "# print(flat)\n",
    "\n",
    "hotel_dialogs = []\n",
    "services = []\n",
    "rows = []\n",
    "        \n",
    "for filename in os.listdir(folder_path):\n",
    "    file_path = os.path.join(folder_path, filename)\n",
    "    if os.path.isfile(file_path) and 'dialogues_' in file_path:\n",
    "        # print(\"Found file:\", file_path)\n",
    "        with open(file_path) as f:\n",
    "            dialogues = json.load(f)\n",
    "        for dialog in dialogues:\n",
    "            dialogue_id = dialog[\"dialogue_id\"]\n",
    "            services = dialog.get(\"services\", [])\n",
    "            for turn_idx, turn in enumerate(dialog[\"turns\"]):\n",
    "                rows.append({\n",
    "                    \"dialogue_id\": dialogue_id,\n",
    "                    \"turn_index\": turn_idx,\n",
    "                    \"speaker\": turn[\"speaker\"],\n",
    "                    \"utterance\": turn[\"utterance\"],\n",
    "                    \"services\": services\n",
    "                })\n",
    "\n",
    "df = pd.DataFrame(rows)\n",
    "print(df.head())\n"
   ]
  },
  {
   "cell_type": "code",
   "execution_count": 54,
   "id": "7ee93da7-43f8-4f0a-8822-6ae13b779a2e",
   "metadata": {},
   "outputs": [
    {
     "name": "stdout",
     "output_type": "stream",
     "text": [
      "unique_ids 16142 unique_hotel_ids 2008 multi_service: 1680 18\n",
      "USER : I wanna rental car in Sydney and want a small car and need the car till the 3rd of March\n",
      "SYSTEM : when do you wanna get it?\n",
      "USER : I want a car later today\n",
      "SYSTEM : what time will you need it?\n",
      "USER : I wanna get it at evening 4:30 and I want the car on March 2nd\n",
      "SYSTEM : There is a car at Kingsford Smith International airport for people to get on March 2nd and it's a compact car. Want a chevrolet bolt?\n",
      "USER : that sounds great\n",
      "SYSTEM : can I assist with any other matter?\n",
      "USER : I wanna reserve this car\n",
      "SYSTEM : confirm kingsford smith international airport and the pickup is march 2nd. car pick up is at 4:30 pm and drop off is march 3rd and it's a compact car\n",
      "USER : yes that is good\n",
      "SYSTEM : the car has been reserved\n",
      "USER : tell the total cost\n",
      "SYSTEM : the reservation is $28\n",
      "USER : thanks for the help. I want a 1 star hotel\n",
      "SYSTEM : I have 10 hotels that match you and 28 hotel sydney is a nice hotel. it is 1 star\n",
      "USER : yes that is good\n",
      "SYSTEM : have a great day\n",
      "\n"
     ]
    }
   ],
   "source": [
    "def serialize_dialogue(df):\n",
    "    ret = \"\"\n",
    "    for _, row in df.iterrows():\n",
    "        # print(row)\n",
    "        ret += (f\"{row['speaker']} : {row['utterance']}\\n\")\n",
    "    return ret\n",
    "    \n",
    "hotel_rows = df[df[\"services\"].apply(lambda x: \"Hotels_1\" in x or \"Hotels_2\" in x)]\n",
    "multi_service = hotel_rows[hotel_rows[\"services\"].apply(lambda x: len(x) > 1 )]\n",
    "first_multi_service_dialog = multi_service['dialogue_id'].iloc[0]\n",
    "\n",
    "example_multi_service = multi_service[multi_service['dialogue_id'].apply(lambda x: x == first_multi_service_dialog)]\n",
    "\n",
    "unique_ids = df[\"dialogue_id\"].unique()\n",
    "unique_hotel_ids = hotel_rows['dialogue_id'].unique()\n",
    "\n",
    "# print(\"Number of rows with 'Hotels_1' in services:\", count, len(df), count/len(df))\n",
    "print(f\"unique_ids {len(unique_ids)} unique_hotel_ids {len(unique_hotel_ids)} multi_service: {len(multi_service['dialogue_id'].unique())} {len(example_multi_service)}\")\n",
    "print(serialize_dialogue(example_multi_service))"
   ]
  }
 ],
 "metadata": {
  "kernelspec": {
   "display_name": "Python 3 (ipykernel)",
   "language": "python",
   "name": "python3"
  },
  "language_info": {
   "codemirror_mode": {
    "name": "ipython",
    "version": 3
   },
   "file_extension": ".py",
   "mimetype": "text/x-python",
   "name": "python",
   "nbconvert_exporter": "python",
   "pygments_lexer": "ipython3",
   "version": "3.10.12"
  }
 },
 "nbformat": 4,
 "nbformat_minor": 5
}
