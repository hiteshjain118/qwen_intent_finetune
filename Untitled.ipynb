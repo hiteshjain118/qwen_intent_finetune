{
 "cells": [
  {
   "cell_type": "code",
   "execution_count": 29,
   "id": "c6a93354-2d78-47fa-84eb-cfe02d6b99c4",
   "metadata": {},
   "outputs": [
    {
     "name": "stderr",
     "output_type": "stream",
     "text": [
      "Loading checkpoint shards: 100%|██████████| 8/8 [00:02<00:00,  2.71it/s]\n",
      "Some parameters are on the meta device because they were offloaded to the cpu.\n"
     ]
    },
    {
     "name": "stdout",
     "output_type": "stream",
     "text": [
      "What is the capital of France and tell me about it in 100 words? The capital of France is Paris. It is a city known for its rich history, culture, and architecture. Paris is home to many famous landmarks such as the Eiffel Tower, the Louvre Museum, and Notre-Dame Cathedral. The city is also known for its fashion, cuisine, and art. Paris is a popular tourist destination and attracts millions of visitors each year. The city is divided into 20 arrondissements, each with its own unique character and attractions. Paris is a vibrant and bustling city that offers something for everyone.\n"
     ]
    }
   ],
   "source": [
    "from transformers import AutoTokenizer, AutoModelForCausalLM\n",
    "\n",
    "# Local path where model was downloaded or saved\n",
    "model_path = \"./qwen_model_14B\"\n",
    "\n",
    "# Load tokenizer\n",
    "tokenizer = AutoTokenizer.from_pretrained(\n",
    "    model_path, \n",
    "    trust_remote_code=True,\n",
    "    padding=True,\n",
    "    truncation=True\n",
    ")\n",
    "\n",
    "# Load model to GPU (automatically maps layers to available device)\n",
    "reloaded_model = AutoModelForCausalLM.from_pretrained(\n",
    "    model_path,\n",
    "    device_map=\"auto\",         # Automatically use GPU if available\n",
    "    torch_dtype=\"auto\",        # Load using model's preferred dtype (e.g. fp16)\n",
    "    trust_remote_code=True     # Needed for Qwen and some custom models\n",
    ")\n",
    "\n",
    "input_text = \"What is the capital of France and tell me about it in 100 words?\"\n",
    "input_ids = tokenizer.encode(input_text, return_tensors=\"pt\").to(model.device)\n",
    "output_from_reloaded = reloaded_model.generate(\n",
    "    input_ids, \n",
    "    max_new_tokens=5000,\n",
    "    pad_token_id=tokenizer.eos_token_id  # ensure this is set\n",
    ")\n",
    "# print(output_from_reloaded)\n",
    "print(tokenizer.decode(output_from_reloaded[0], skip_special_tokens=True))"
   ]
  },
  {
   "cell_type": "code",
   "execution_count": 1,
   "id": "62780564-60d0-4ee1-8366-2e50d2b30c96",
   "metadata": {},
   "outputs": [
    {
     "name": "stderr",
     "output_type": "stream",
     "text": [
      "/home/ubuntu/.local/lib/python3.10/site-packages/tqdm/auto.py:21: TqdmWarning: IProgress not found. Please update jupyter and ipywidgets. See https://ipywidgets.readthedocs.io/en/stable/user_install.html\n",
      "  from .autonotebook import tqdm as notebook_tqdm\n",
      "2025-07-17 16:42:52.308279: E external/local_xla/xla/stream_executor/cuda/cuda_fft.cc:467] Unable to register cuFFT factory: Attempting to register factory for plugin cuFFT when one has already been registered\n",
      "WARNING: All log messages before absl::InitializeLog() is called are written to STDERR\n",
      "E0000 00:00:1752770572.330736    5334 cuda_dnn.cc:8579] Unable to register cuDNN factory: Attempting to register factory for plugin cuDNN when one has already been registered\n",
      "E0000 00:00:1752770572.338124    5334 cuda_blas.cc:1407] Unable to register cuBLAS factory: Attempting to register factory for plugin cuBLAS when one has already been registered\n",
      "W0000 00:00:1752770572.359641    5334 computation_placer.cc:177] computation placer already registered. Please check linkage and avoid linking the same target more than once.\n",
      "W0000 00:00:1752770572.359667    5334 computation_placer.cc:177] computation placer already registered. Please check linkage and avoid linking the same target more than once.\n",
      "W0000 00:00:1752770572.359672    5334 computation_placer.cc:177] computation placer already registered. Please check linkage and avoid linking the same target more than once.\n",
      "W0000 00:00:1752770572.359678    5334 computation_placer.cc:177] computation placer already registered. Please check linkage and avoid linking the same target more than once.\n",
      "Loading checkpoint shards: 100%|██████████| 4/4 [00:03<00:00,  1.27it/s]\n",
      "The attention mask is not set and cannot be inferred from input because pad token is same as eos token. As a consequence, you may observe unexpected behavior. Please pass your input's `attention_mask` to obtain reliable results.\n"
     ]
    },
    {
     "name": "stdout",
     "output_type": "stream",
     "text": [
      "What is the capital of France and tell me about it in 100 words? The capital of France is Paris. It is a city of 2.1 million people and is located in the north of the country. Paris is known for its beautiful architecture, museums, and art galleries. It is also famous for its fashion, food, and nightlife. The city is home to many famous landmarks such as the Eiffel Tower, the Louvre Museum, and Notre-Dame Cathedral. Paris is a popular tourist destination and attracts millions of visitors each year. The city is also a center for business and finance, with many international companies having their headquarters there. Overall, Paris is a vibrant and exciting city that offers something for everyone.\n"
     ]
    }
   ],
   "source": [
    "from transformers import AutoTokenizer, AutoModelForCausalLM\n",
    "\n",
    "# Local path where model was downloaded or saved\n",
    "model_path = \"./qwen_model_7B\"\n",
    "\n",
    "# Load model to GPU (automatically maps layers to available device)\n",
    "model_7B = AutoModelForCausalLM.from_pretrained(\n",
    "    model_path,\n",
    "    device_map=\"auto\",         # Automatically use GPU if available\n",
    "    torch_dtype=\"auto\",        # Load using model's preferred dtype (e.g. fp16)\n",
    "    trust_remote_code=True     # Needed for Qwen and some custom models\n",
    ")\n",
    "# Load tokenizer\n",
    "tokenizer = AutoTokenizer.from_pretrained(\n",
    "    model_path, \n",
    "    trust_remote_code=True,\n",
    "    padding=True,\n",
    "    truncation=True\n",
    ")\n",
    "\n",
    "input_text = \"What is the capital of France and tell me about it in 100 words?\"\n",
    "input_ids = tokenizer.encode(input_text, return_tensors=\"pt\").to(model_7B.device)\n",
    "output_from_7B = model_7B.generate(\n",
    "    input_ids, \n",
    "    max_new_tokens=5000,\n",
    "    pad_token_id=tokenizer.eos_token_id  # ensure this is set\n",
    ")\n",
    "print(tokenizer.decode(output_from_7B[0], skip_special_tokens=True))"
   ]
  },
  {
   "cell_type": "code",
   "execution_count": 2,
   "id": "dc37cdaf-5efc-4aad-bc7c-65b0563e5f3a",
   "metadata": {},
   "outputs": [
    {
     "name": "stdout",
     "output_type": "stream",
     "text": [
      "What is the capital of Pakistan and tell me about it in 100 words? The capital of Pakistan is Islamabad. It is a planned city located in the northwestern part of the country, in the Islamabad district. It was established in 1960 as the capital of Pakistan and was designed by a team of architects from around the world. Islamabad is known for its modern architecture, green spaces, and its location in the heart of the country. It is home to many important government buildings, including the Parliament House, the Supreme Court of Pakistan, and the President's House\n"
     ]
    }
   ],
   "source": [
    "input_text_2 = \"What is the capital of Pakistan and tell me about it in 100 words?\"\n",
    "input_ids_2 = tokenizer.encode(input_text_2, return_tensors=\"pt\").to(model_7B.device)\n",
    "\n",
    "output_from_7B_2 = model_7B.generate(\n",
    "    input_ids_2, \n",
    "    max_new_tokens=100,\n",
    "    pad_token_id=tokenizer.eos_token_id  # ensure this is set\n",
    ")\n",
    "# print(output_from_reloaded)\n",
    "print(tokenizer.decode(output_from_7B_2[0], skip_special_tokens=True))"
   ]
  },
  {
   "cell_type": "code",
   "execution_count": null,
   "id": "07828574-e5cd-4e85-be6a-db25e63c729c",
   "metadata": {},
   "outputs": [
    {
     "name": "stdout",
     "output_type": "stream",
     "text": [
      "  dialogue_id  turn_index speaker  \\\n",
      "0    52_00000           0    USER   \n",
      "1    52_00000           1  SYSTEM   \n",
      "2    52_00000           2    USER   \n",
      "3    52_00000           3  SYSTEM   \n",
      "4    52_00000           4    USER   \n",
      "\n",
      "                                           utterance  \\\n",
      "0                    Please reserve this car for me.   \n",
      "1  Where would you like to pick it up? And at whi...   \n",
      "2  I want to pick it up from Vancouver Airport at...   \n",
      "3  Which dates would you like the car reserved? W...   \n",
      "4  I want a standard on this Sunday until March 9th.   \n",
      "\n",
      "                   services  \\\n",
      "0  [RentalCars_1, Hotels_3]   \n",
      "1  [RentalCars_1, Hotels_3]   \n",
      "2  [RentalCars_1, Hotels_3]   \n",
      "3  [RentalCars_1, Hotels_3]   \n",
      "4  [RentalCars_1, Hotels_3]   \n",
      "\n",
      "                                              frames  \\\n",
      "0  [{'actions': [{'act': 'INFORM_INTENT', 'canoni...   \n",
      "1  [{'actions': [{'act': 'REQUEST', 'canonical_va...   \n",
      "2  [{'actions': [{'act': 'INFORM', 'canonical_val...   \n",
      "3  [{'actions': [{'act': 'REQUEST', 'canonical_va...   \n",
      "4  [{'actions': [{'act': 'INFORM', 'canonical_val...   \n",
      "\n",
      "                                                acts active_intent  \n",
      "0                          [(INFORM_INTENT, intent)]  [ReserveCar]  \n",
      "1  [(REQUEST, pickup_location), (REQUEST, pickup_...            []  \n",
      "2  [(INFORM, pickup_location), (INFORM, pickup_ti...  [ReserveCar]  \n",
      "3  [(REQUEST, dropoff_date), (REQUEST, pickup_dat...            []  \n",
      "4  [(INFORM, type), (INFORM, pickup_date), (INFOR...  [ReserveCar]  \n"
     ]
    }
   ],
   "source": [
    "import json\n",
    "train_filename = '../dstc8-schema-guided-dialogue/train/dialogues_052.json'\n",
    "\n",
    "import os\n",
    "import json\n",
    "import pandas as pd\n",
    "\n",
    "folder_path = \"../dstc8-schema-guided-dialogue/train\"\n",
    "from itertools import chain\n",
    "\n",
    "hotel_dialogs = []\n",
    "services = []\n",
    "rows = []\n",
    "\n",
    "def create_intent_and_slot_dataframe(df):\n",
    "    for filename in os.listdir(folder_path):\n",
    "        file_path = os.path.join(folder_path, filename)\n",
    "        if os.path.isfile(file_path) and 'dialogues_052' in file_path:\n",
    "            # print(\"Found file:\", file_path)\n",
    "            with open(file_path) as f:\n",
    "                dialogues = json.load(f)\n",
    "            for dialog in dialogues:\n",
    "                dialogue_id = dialog[\"dialogue_id\"]\n",
    "                services = dialog.get(\"services\", [])\n",
    "                for turn_idx, turn in enumerate(dialog[\"turns\"]):\n",
    "                    rows.append({\n",
    "                        \"dialogue_id\": dialogue_id,\n",
    "                        \"turn_index\": turn_idx,\n",
    "                        \"speaker\": turn[\"speaker\"],\n",
    "                        \"utterance\": turn[\"utterance\"],\n",
    "                        \"services\": services,\n",
    "                        \"frames\": turn.get(\"frames\", []),\n",
    "                        \"acts\": [action.get(\"act\", \"\") for f in turn.get(\"frames\", []) for action in f.get(\"actions\", [])],\n",
    "                        \"slots\": [action.get(\"slot\", \"\") for f in turn.get(\"frames\", []) for action in f.get(\"actions\", [])],\n",
    "                        \"active_intent\": [frame.get(\"state\", {}).get(\"active_intent\", \"\") for frame in turn.get(\"frames\", [])],\n",
    "                    })\n",
    "    return pd.DataFrame(rows)\n",
    "\n",
    "def serialize_dialogue(df):\n",
    "    ret = \"\"\n",
    "    for _, row in df.iterrows():\n",
    "        # print(row)\n",
    "        ret += (f\"{row['speaker']} : {row['utterance']} active_intent: {row['active_intent']} acts: {row['acts']} \\n\")\n",
    "    return ret\n",
    "\n",
    "def get_dialogue_with_id(df, dialogue_id):\n",
    "    return df[df[\"dialogue_id\"] == dialogue_id]\n",
    "\n",
    "def get_hotel_only_dialogues(df):\n",
    "    hotel_rows = df[df[\"services\"].apply(lambda x: \"Hotels\" in x) & df[\"services\"].apply(lambda x: len(x) == 1)]\n",
    "    return hotel_rows\n",
    "\n",
    "\n",
    "df = create_intent_and_slot_dataframe(folder_path)\n",
    "print(df.head())\n",
    "\n",
    "\n",
    "\n",
    "\n",
    "\n",
    "\n"
   ]
  },
  {
   "cell_type": "code",
   "execution_count": null,
   "id": "2a50a312",
   "metadata": {},
   "outputs": [],
   "source": []
  },
  {
   "cell_type": "code",
   "execution_count": null,
   "id": "7ee93da7-43f8-4f0a-8822-6ae13b779a2e",
   "metadata": {},
   "outputs": [
    {
     "name": "stdout",
     "output_type": "stream",
     "text": [
      "USER : Please reserve this car for me. active_intent: ['ReserveCar'] acts: [('INFORM_INTENT', 'intent')] \n",
      "SYSTEM : Where would you like to pick it up? And at which time? active_intent: [''] acts: [('REQUEST', 'pickup_location'), ('REQUEST', 'pickup_time')] \n",
      "USER : I want to pick it up from Vancouver Airport at one pm please. active_intent: ['ReserveCar'] acts: [('INFORM', 'pickup_location'), ('INFORM', 'pickup_time')] \n",
      "SYSTEM : Which dates would you like the car reserved? What type do you prefer? active_intent: [''] acts: [('REQUEST', 'dropoff_date'), ('REQUEST', 'pickup_date'), ('REQUEST', 'type')] \n",
      "USER : I want a standard on this Sunday until March 9th. active_intent: ['ReserveCar'] acts: [('INFORM', 'type'), ('INFORM', 'pickup_date'), ('INFORM', 'dropoff_date')] \n",
      "SYSTEM : You want a standard at YVR International Airport from march 3rd at 1 pm through march 9th. active_intent: [''] acts: [('CONFIRM', 'pickup_location'), ('CONFIRM', 'pickup_date'), ('CONFIRM', 'pickup_time'), ('CONFIRM', 'dropoff_date'), ('CONFIRM', 'type')] \n",
      "USER : That's correct, what type of car is it and what is the total? active_intent: ['ReserveCar'] acts: [('REQUEST', 'car_name'), ('REQUEST', 'total_price'), ('AFFIRM', '')] \n",
      "SYSTEM : Your car has been reserved and it is an Elantra which totals $216. active_intent: [''] acts: [('INFORM', 'car_name'), ('INFORM', 'total_price'), ('NOTIFY_SUCCESS', '')] \n",
      "USER : I also need a hotel please. active_intent: ['SearchHotel'] acts: [('INFORM_INTENT', 'intent')] \n",
      "SYSTEM : Do you want one in Vancouver? active_intent: [''] acts: [('REQUEST', 'location')] \n",
      "USER : That's fine yes. active_intent: ['SearchHotel'] acts: [('AFFIRM', '')] \n",
      "SYSTEM : How about the Atrium Inn Vancouver which is rated 3.7. active_intent: [''] acts: [('OFFER', 'hotel_name'), ('OFFER', 'average_rating')] \n",
      "USER : Perfect, I also need to book three rooms at a hotel. active_intent: ['ReserveHotel'] acts: [('INFORM', 'number_of_rooms'), ('INFORM_INTENT', 'intent'), ('SELECT', '')] \n",
      "SYSTEM : Do you need to check in on March 3rd? active_intent: [''] acts: [('REQUEST', 'check_in_date')] \n",
      "USER : Saturday this week until March 9th please. active_intent: ['ReserveHotel'] acts: [('INFORM', 'check_out_date'), ('INFORM', 'check_in_date')] \n",
      "SYSTEM : You want to reserve 3 rooms at the Atrium Inn Vancouver from March 2nd until March 9th in Vancouver, correct? active_intent: [''] acts: [('CONFIRM', 'hotel_name'), ('CONFIRM', 'location'), ('CONFIRM', 'check_in_date'), ('CONFIRM', 'check_out_date'), ('CONFIRM', 'number_of_rooms')] \n",
      "USER : Yes that is correct. active_intent: ['ReserveHotel'] acts: [('AFFIRM', '')] \n",
      "SYSTEM : Your rooms are booked. active_intent: [''] acts: [('NOTIFY_SUCCESS', '')] \n",
      "USER : What is their contact number? active_intent: ['ReserveHotel'] acts: [('REQUEST', 'phone_number')] \n",
      "SYSTEM : It is +1 604-254-1000. active_intent: [''] acts: [('INFORM', 'phone_number')] \n",
      "USER : Thanks, that's all I needed. active_intent: ['ReserveHotel'] acts: [('THANK_YOU', ''), ('GOODBYE', '')] \n",
      "SYSTEM : Have a nice day. active_intent: [''] acts: [('GOODBYE', '')] \n",
      "\n"
     ]
    }
   ],
   "source": [
    "\n",
    "print(serialize_dialogue(get_dialogue_with_id(df, \"52_00000\")))\n",
    "\n",
    "# unique_ids = df[\"dialogue_id\"].unique()\n",
    "# unique_hotel_ids = hotel_rows['dialogue_id'].unique()\n",
    "\n",
    "# # print(\"Number of rows with 'Hotels_1' in services:\", count, len(df), count/len(df))\n",
    "# print(f\"unique_ids {len(unique_ids)} unique_hotel_ids {len(unique_hotel_ids)} multi_service: {len(multi_service['dialogue_id'].unique())} {len(example_multi_service)}\")\n",
    "# print(serialize_dialogue(example_multi_service))"
   ]
  },
  {
   "cell_type": "code",
   "execution_count": null,
   "id": "97d728fa",
   "metadata": {},
   "outputs": [],
   "source": []
  },
  {
   "cell_type": "code",
   "execution_count": null,
   "id": "3ab61e41",
   "metadata": {},
   "outputs": [],
   "source": []
  },
  {
   "cell_type": "code",
   "execution_count": null,
   "id": "45c7b443",
   "metadata": {},
   "outputs": [],
   "source": []
  },
  {
   "cell_type": "code",
   "execution_count": null,
   "id": "bd62dd63",
   "metadata": {},
   "outputs": [],
   "source": []
  }
 ],
 "metadata": {
  "kernelspec": {
   "display_name": "venv",
   "language": "python",
   "name": "python3"
  },
  "language_info": {
   "codemirror_mode": {
    "name": "ipython",
    "version": 3
   },
   "file_extension": ".py",
   "mimetype": "text/x-python",
   "name": "python",
   "nbconvert_exporter": "python",
   "pygments_lexer": "ipython3",
   "version": "3.13.5"
  }
 },
 "nbformat": 4,
 "nbformat_minor": 5
}
